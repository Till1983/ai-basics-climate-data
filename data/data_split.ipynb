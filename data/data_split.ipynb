{
 "cells": [
  {
   "cell_type": "code",
   "execution_count": 9,
   "metadata": {},
   "outputs": [],
   "source": [
    "import pandas as pd\n",
    "import numpy as np\n",
    "from sklearn.model_selection import train_test_split"
   ]
  },
  {
   "cell_type": "markdown",
   "metadata": {},
   "source": [
    "### Import and Inspect Data"
   ]
  },
  {
   "cell_type": "code",
   "execution_count": 10,
   "metadata": {},
   "outputs": [
    {
     "name": "stdout",
     "output_type": "stream",
     "text": [
      "<class 'pandas.core.frame.DataFrame'>\n",
      "RangeIndex: 304632 entries, 0 to 304631\n",
      "Data columns (total 12 columns):\n",
      " #   Column                         Non-Null Count   Dtype              \n",
      "---  ------                         --------------   -----              \n",
      " 0   date                           304632 non-null  datetime64[ns, UTC]\n",
      " 1   temperature_2m                 304632 non-null  float64            \n",
      " 2   relative_humidity_2m           304632 non-null  float64            \n",
      " 3   precipitation                  304632 non-null  float64            \n",
      " 4   soil_temperature_0_to_7cm      304632 non-null  float64            \n",
      " 5   soil_temperature_7_to_28cm     304632 non-null  float64            \n",
      " 6   soil_temperature_28_to_100cm   304632 non-null  float64            \n",
      " 7   soil_temperature_100_to_255cm  304632 non-null  float64            \n",
      " 8   soil_moisture_0_to_7cm         304632 non-null  float64            \n",
      " 9   soil_moisture_7_to_28cm        304632 non-null  float64            \n",
      " 10  soil_moisture_28_to_100cm      304632 non-null  float64            \n",
      " 11  soil_moisture_100_to_255cm     304632 non-null  float64            \n",
      "dtypes: datetime64[ns, UTC](1), float64(11)\n",
      "memory usage: 27.9 MB\n"
     ]
    }
   ],
   "source": [
    "df = pd.read_csv(\"thf-climatedata-1990-today.csv\")\n",
    "df['date'] = pd.to_datetime(df['date'])\n",
    "df.info()"
   ]
  },
  {
   "cell_type": "code",
   "execution_count": 11,
   "metadata": {},
   "outputs": [
    {
     "data": {
      "text/html": [
       "<div>\n",
       "<style scoped>\n",
       "    .dataframe tbody tr th:only-of-type {\n",
       "        vertical-align: middle;\n",
       "    }\n",
       "\n",
       "    .dataframe tbody tr th {\n",
       "        vertical-align: top;\n",
       "    }\n",
       "\n",
       "    .dataframe thead th {\n",
       "        text-align: right;\n",
       "    }\n",
       "</style>\n",
       "<table border=\"1\" class=\"dataframe\">\n",
       "  <thead>\n",
       "    <tr style=\"text-align: right;\">\n",
       "      <th></th>\n",
       "      <th>date</th>\n",
       "      <th>temperature_2m</th>\n",
       "      <th>relative_humidity_2m</th>\n",
       "      <th>precipitation</th>\n",
       "      <th>soil_temperature_0_to_7cm</th>\n",
       "      <th>soil_temperature_7_to_28cm</th>\n",
       "      <th>soil_temperature_28_to_100cm</th>\n",
       "      <th>soil_temperature_100_to_255cm</th>\n",
       "      <th>soil_moisture_0_to_7cm</th>\n",
       "      <th>soil_moisture_7_to_28cm</th>\n",
       "      <th>soil_moisture_28_to_100cm</th>\n",
       "      <th>soil_moisture_100_to_255cm</th>\n",
       "    </tr>\n",
       "  </thead>\n",
       "  <tbody>\n",
       "    <tr>\n",
       "      <th>0</th>\n",
       "      <td>1989-12-31 23:00:00+00:00</td>\n",
       "      <td>-1.176</td>\n",
       "      <td>94.291890</td>\n",
       "      <td>0.0</td>\n",
       "      <td>-0.376</td>\n",
       "      <td>0.674</td>\n",
       "      <td>4.274</td>\n",
       "      <td>9.024</td>\n",
       "      <td>0.35</td>\n",
       "      <td>0.352</td>\n",
       "      <td>0.305</td>\n",
       "      <td>0.292</td>\n",
       "    </tr>\n",
       "    <tr>\n",
       "      <th>1</th>\n",
       "      <td>1990-01-01 00:00:00+00:00</td>\n",
       "      <td>-1.376</td>\n",
       "      <td>94.282690</td>\n",
       "      <td>0.0</td>\n",
       "      <td>-0.426</td>\n",
       "      <td>0.674</td>\n",
       "      <td>4.274</td>\n",
       "      <td>9.024</td>\n",
       "      <td>0.35</td>\n",
       "      <td>0.352</td>\n",
       "      <td>0.305</td>\n",
       "      <td>0.292</td>\n",
       "    </tr>\n",
       "    <tr>\n",
       "      <th>2</th>\n",
       "      <td>1990-01-01 01:00:00+00:00</td>\n",
       "      <td>-1.376</td>\n",
       "      <td>91.534355</td>\n",
       "      <td>0.0</td>\n",
       "      <td>-0.426</td>\n",
       "      <td>0.674</td>\n",
       "      <td>4.274</td>\n",
       "      <td>9.024</td>\n",
       "      <td>0.35</td>\n",
       "      <td>0.352</td>\n",
       "      <td>0.305</td>\n",
       "      <td>0.292</td>\n",
       "    </tr>\n",
       "    <tr>\n",
       "      <th>3</th>\n",
       "      <td>1990-01-01 02:00:00+00:00</td>\n",
       "      <td>-1.526</td>\n",
       "      <td>87.857420</td>\n",
       "      <td>0.0</td>\n",
       "      <td>-0.426</td>\n",
       "      <td>0.674</td>\n",
       "      <td>4.274</td>\n",
       "      <td>9.024</td>\n",
       "      <td>0.35</td>\n",
       "      <td>0.352</td>\n",
       "      <td>0.305</td>\n",
       "      <td>0.292</td>\n",
       "    </tr>\n",
       "    <tr>\n",
       "      <th>4</th>\n",
       "      <td>1990-01-01 03:00:00+00:00</td>\n",
       "      <td>-1.476</td>\n",
       "      <td>84.643610</td>\n",
       "      <td>0.0</td>\n",
       "      <td>-0.426</td>\n",
       "      <td>0.674</td>\n",
       "      <td>4.274</td>\n",
       "      <td>9.024</td>\n",
       "      <td>0.35</td>\n",
       "      <td>0.352</td>\n",
       "      <td>0.305</td>\n",
       "      <td>0.292</td>\n",
       "    </tr>\n",
       "  </tbody>\n",
       "</table>\n",
       "</div>"
      ],
      "text/plain": [
       "                       date  ...  soil_moisture_100_to_255cm\n",
       "0 1989-12-31 23:00:00+00:00  ...                       0.292\n",
       "1 1990-01-01 00:00:00+00:00  ...                       0.292\n",
       "2 1990-01-01 01:00:00+00:00  ...                       0.292\n",
       "3 1990-01-01 02:00:00+00:00  ...                       0.292\n",
       "4 1990-01-01 03:00:00+00:00  ...                       0.292\n",
       "\n",
       "[5 rows x 12 columns]"
      ]
     },
     "execution_count": 11,
     "metadata": {},
     "output_type": "execute_result"
    }
   ],
   "source": [
    "df.head()"
   ]
  },
  {
   "cell_type": "markdown",
   "metadata": {},
   "source": [
    "### Create Train/Test Split and export split data for consistent use"
   ]
  },
  {
   "cell_type": "code",
   "execution_count": 12,
   "metadata": {},
   "outputs": [],
   "source": [
    "X = df[['temperature_2m', 'relative_humidity_2m', 'precipitation']]\n",
    "y = df['soil_temperature_0_to_7cm']\n",
    "\n",
    "X_train, X_test, y_train, y_test = train_test_split(X, y, test_size=0.25, random_state=42)\n",
    "\n",
    "np.save('X_train.npy', X_train)\n",
    "np.save('X_test.npy', X_test)\n",
    "np.save('y_train.npy', y_train)\n",
    "np.save('y_test.npy', y_test)"
   ]
  }
 ],
 "metadata": {
  "kernelspec": {
   "display_name": "venv",
   "language": "python",
   "name": "python3"
  },
  "language_info": {
   "codemirror_mode": {
    "name": "ipython",
    "version": 3
   },
   "file_extension": ".py",
   "mimetype": "text/x-python",
   "name": "python",
   "nbconvert_exporter": "python",
   "pygments_lexer": "ipython3",
   "version": "3.10.6"
  }
 },
 "nbformat": 4,
 "nbformat_minor": 2
}
