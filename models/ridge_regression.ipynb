{
 "cells": [
  {
   "cell_type": "markdown",
   "metadata": {},
   "source": [
    "# Ridge Regression Model"
   ]
  },
  {
   "cell_type": "markdown",
   "metadata": {},
   "source": [
    "### Import libraries and model data"
   ]
  },
  {
   "cell_type": "code",
   "execution_count": 1,
   "metadata": {},
   "outputs": [],
   "source": [
    "import numpy as np\n",
    "from sklearn.linear_model import Ridge\n",
    "from sklearn.metrics import mean_absolute_error, r2_score, mean_squared_error\n",
    "from sklearn.model_selection import GridSearchCV\n",
    "\n",
    "X_train = np.load('../data/X_train.npy')\n",
    "X_test = np.load('../data/X_test.npy')\n",
    "y_train = np.load('../data/y_train.npy')\n",
    "y_test  = np.load('../data/y_test.npy')"
   ]
  },
  {
   "cell_type": "markdown",
   "metadata": {},
   "source": [
    "### Initialise the model and make prediction"
   ]
  },
  {
   "cell_type": "code",
   "execution_count": 2,
   "metadata": {},
   "outputs": [],
   "source": [
    "ridge_model = Ridge()\n",
    "\n",
    "param_grid = {'alpha': [0.01, 0.1, 1, 10, 100, 250, 500, 1000]}\n",
    "\n",
    "grid_search = GridSearchCV(estimator=ridge_model, param_grid=param_grid, cv=5, scoring=\"neg_mean_squared_error\", n_jobs=-1)\n",
    "grid_search.fit(X_train, y_train)\n",
    "\n",
    "best_alpha = grid_search.best_params_['alpha']\n",
    "\n",
    "ridge_best = Ridge(alpha=best_alpha)\n",
    "ridge_best.fit(X_train, y_train)\n",
    "\n",
    "ridge_model.fit(X_train, y_train)\n",
    "\n",
    "y_predict = ridge_model.predict(X_test)"
   ]
  },
  {
   "cell_type": "markdown",
   "metadata": {},
   "source": [
    "### Evaluate the model"
   ]
  },
  {
   "cell_type": "code",
   "execution_count": 3,
   "metadata": {},
   "outputs": [
    {
     "name": "stdout",
     "output_type": "stream",
     "text": [
      "Best Alpha: 100\n",
      "Mean Absolute Error: 1.25\n",
      "Mean Squared Error: 2.9\n",
      "R Squared: 0.95\n"
     ]
    }
   ],
   "source": [
    "mae = mean_absolute_error(y_test, y_predict)\n",
    "mse= mean_squared_error(y_test, y_predict)\n",
    "r_squared = r2_score(y_test, y_predict)\n",
    "\n",
    "print(\"Best Alpha:\", best_alpha)\n",
    "print(\"Mean Absolute Error:\", round(mae, 2))\n",
    "print(\"Mean Squared Error:\", round(mse, 2))\n",
    "print(\"R Squared:\", round(r_squared, 2))"
   ]
  }
 ],
 "metadata": {
  "kernelspec": {
   "display_name": "venv",
   "language": "python",
   "name": "python3"
  },
  "language_info": {
   "codemirror_mode": {
    "name": "ipython",
    "version": 3
   },
   "file_extension": ".py",
   "mimetype": "text/x-python",
   "name": "python",
   "nbconvert_exporter": "python",
   "pygments_lexer": "ipython3",
   "version": "3.10.6"
  }
 },
 "nbformat": 4,
 "nbformat_minor": 2
}
